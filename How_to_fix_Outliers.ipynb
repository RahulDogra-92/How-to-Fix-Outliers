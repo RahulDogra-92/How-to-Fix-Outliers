{
  "nbformat": 4,
  "nbformat_minor": 0,
  "metadata": {
    "colab": {
      "name": "How to fix Outliers",
      "provenance": [],
      "collapsed_sections": []
    },
    "kernelspec": {
      "name": "python3",
      "display_name": "Python 3"
    },
    "language_info": {
      "name": "python"
    }
  },
  "cells": [
    {
      "cell_type": "code",
      "metadata": {
        "id": "pHhtoaEG8a46"
      },
      "source": [
        "import numpy as np\n",
        "import pandas as pd"
      ],
      "execution_count": 122,
      "outputs": []
    },
    {
      "cell_type": "markdown",
      "metadata": {
        "id": "ao0GsJ-J8OHD"
      },
      "source": [
        "#A simple outlier\n"
      ]
    },
    {
      "cell_type": "code",
      "metadata": {
        "colab": {
          "base_uri": "https://localhost:8080/"
        },
        "id": "CzsPZg2M8O5v",
        "outputId": "b5c14353-25c5-4712-9564-2f66d97e8731"
      },
      "source": [
        "# Import the LocalOutlierFactor module\n",
        "from sklearn.neighbors import LocalOutlierFactor as lof\n",
        "\n",
        "# Create the list [1.0, 1.0, ..., 1.0, 10.0] as explained\n",
        "x = [1.0]*30\n",
        "x.append(10.0)\n",
        "\n",
        "# Cast to a data frame\n",
        "X = pd.DataFrame(x)\n",
        "\n",
        "# Fit the local outlier factor and print the outlier scores\n",
        "print(lof().fit_predict(X))"
      ],
      "execution_count": 123,
      "outputs": [
        {
          "output_type": "stream",
          "text": [
            "[ 1  1  1  1  1  1  1  1  1  1  1  1  1  1  1  1  1  1  1  1  1  1  1  1\n",
            "  1  1  1  1  1  1 -1]\n"
          ],
          "name": "stdout"
        }
      ]
    },
    {
      "cell_type": "markdown",
      "metadata": {
        "id": "PaHU0m1j8rEx"
      },
      "source": [
        "The algorithm correctly identified the 10.0 as an outlier since it labeled it -1 which stands for anomalous. Let's move on."
      ]
    },
    {
      "cell_type": "markdown",
      "metadata": {
        "id": "ouBVmj5sBqdN"
      },
      "source": [
        "Detecting Outliers in Time Series Data using Local Outlier Factor Algorithm"
      ]
    },
    {
      "cell_type": "markdown",
      "metadata": {
        "id": "YbUmFo0-Bu38"
      },
      "source": [
        "#Step:1 Import the Libraries\n",
        "\n"
      ]
    },
    {
      "cell_type": "code",
      "metadata": {
        "id": "GV1qT7YtBveo"
      },
      "source": [
        "import numpy as np\n",
        "import pandas as pd\n",
        "from sklearn.neighbors import LocalOutlierFactor"
      ],
      "execution_count": 124,
      "outputs": []
    },
    {
      "cell_type": "markdown",
      "metadata": {
        "id": "dIBs2JGPCD14"
      },
      "source": [
        "#Step:2 Read in the dataset\n",
        "\n"
      ]
    },
    {
      "cell_type": "code",
      "metadata": {
        "colab": {
          "base_uri": "https://localhost:8080/",
          "height": 422
        },
        "id": "T0lpop5DBywA",
        "outputId": "63ea57e8-3167-4b5d-8805-3b630524d72c"
      },
      "source": [
        "dataset = pd.read_csv(\"/content/PRSA_Data_Aotizhongxin_20130301-20170228.csv\")\n",
        "dataset"
      ],
      "execution_count": 125,
      "outputs": [
        {
          "output_type": "execute_result",
          "data": {
            "text/html": [
              "<div>\n",
              "<style scoped>\n",
              "    .dataframe tbody tr th:only-of-type {\n",
              "        vertical-align: middle;\n",
              "    }\n",
              "\n",
              "    .dataframe tbody tr th {\n",
              "        vertical-align: top;\n",
              "    }\n",
              "\n",
              "    .dataframe thead th {\n",
              "        text-align: right;\n",
              "    }\n",
              "</style>\n",
              "<table border=\"1\" class=\"dataframe\">\n",
              "  <thead>\n",
              "    <tr style=\"text-align: right;\">\n",
              "      <th></th>\n",
              "      <th>No</th>\n",
              "      <th>year</th>\n",
              "      <th>month</th>\n",
              "      <th>day</th>\n",
              "      <th>hour</th>\n",
              "      <th>PM2.5</th>\n",
              "      <th>PM10</th>\n",
              "      <th>SO2</th>\n",
              "      <th>NO2</th>\n",
              "      <th>CO</th>\n",
              "      <th>O3</th>\n",
              "      <th>TEMP</th>\n",
              "      <th>PRES</th>\n",
              "      <th>DEWP</th>\n",
              "      <th>RAIN</th>\n",
              "      <th>wd</th>\n",
              "      <th>WSPM</th>\n",
              "      <th>station</th>\n",
              "    </tr>\n",
              "  </thead>\n",
              "  <tbody>\n",
              "    <tr>\n",
              "      <th>0</th>\n",
              "      <td>1</td>\n",
              "      <td>2013</td>\n",
              "      <td>3</td>\n",
              "      <td>1</td>\n",
              "      <td>0</td>\n",
              "      <td>4.0</td>\n",
              "      <td>4.0</td>\n",
              "      <td>4.0</td>\n",
              "      <td>7.0</td>\n",
              "      <td>300.0</td>\n",
              "      <td>77.0</td>\n",
              "      <td>-0.7</td>\n",
              "      <td>1023.0</td>\n",
              "      <td>-18.8</td>\n",
              "      <td>0.0</td>\n",
              "      <td>NNW</td>\n",
              "      <td>4.4</td>\n",
              "      <td>Aotizhongxin</td>\n",
              "    </tr>\n",
              "    <tr>\n",
              "      <th>1</th>\n",
              "      <td>2</td>\n",
              "      <td>2013</td>\n",
              "      <td>3</td>\n",
              "      <td>1</td>\n",
              "      <td>1</td>\n",
              "      <td>8.0</td>\n",
              "      <td>8.0</td>\n",
              "      <td>4.0</td>\n",
              "      <td>7.0</td>\n",
              "      <td>300.0</td>\n",
              "      <td>77.0</td>\n",
              "      <td>-1.1</td>\n",
              "      <td>1023.2</td>\n",
              "      <td>-18.2</td>\n",
              "      <td>0.0</td>\n",
              "      <td>N</td>\n",
              "      <td>4.7</td>\n",
              "      <td>Aotizhongxin</td>\n",
              "    </tr>\n",
              "    <tr>\n",
              "      <th>2</th>\n",
              "      <td>3</td>\n",
              "      <td>2013</td>\n",
              "      <td>3</td>\n",
              "      <td>1</td>\n",
              "      <td>2</td>\n",
              "      <td>7.0</td>\n",
              "      <td>7.0</td>\n",
              "      <td>5.0</td>\n",
              "      <td>10.0</td>\n",
              "      <td>300.0</td>\n",
              "      <td>73.0</td>\n",
              "      <td>-1.1</td>\n",
              "      <td>1023.5</td>\n",
              "      <td>-18.2</td>\n",
              "      <td>0.0</td>\n",
              "      <td>NNW</td>\n",
              "      <td>5.6</td>\n",
              "      <td>Aotizhongxin</td>\n",
              "    </tr>\n",
              "    <tr>\n",
              "      <th>3</th>\n",
              "      <td>4</td>\n",
              "      <td>2013</td>\n",
              "      <td>3</td>\n",
              "      <td>1</td>\n",
              "      <td>3</td>\n",
              "      <td>6.0</td>\n",
              "      <td>6.0</td>\n",
              "      <td>11.0</td>\n",
              "      <td>11.0</td>\n",
              "      <td>300.0</td>\n",
              "      <td>72.0</td>\n",
              "      <td>-1.4</td>\n",
              "      <td>1024.5</td>\n",
              "      <td>-19.4</td>\n",
              "      <td>0.0</td>\n",
              "      <td>NW</td>\n",
              "      <td>3.1</td>\n",
              "      <td>Aotizhongxin</td>\n",
              "    </tr>\n",
              "    <tr>\n",
              "      <th>4</th>\n",
              "      <td>5</td>\n",
              "      <td>2013</td>\n",
              "      <td>3</td>\n",
              "      <td>1</td>\n",
              "      <td>4</td>\n",
              "      <td>3.0</td>\n",
              "      <td>3.0</td>\n",
              "      <td>12.0</td>\n",
              "      <td>12.0</td>\n",
              "      <td>300.0</td>\n",
              "      <td>72.0</td>\n",
              "      <td>-2.0</td>\n",
              "      <td>1025.2</td>\n",
              "      <td>-19.5</td>\n",
              "      <td>0.0</td>\n",
              "      <td>N</td>\n",
              "      <td>2.0</td>\n",
              "      <td>Aotizhongxin</td>\n",
              "    </tr>\n",
              "    <tr>\n",
              "      <th>...</th>\n",
              "      <td>...</td>\n",
              "      <td>...</td>\n",
              "      <td>...</td>\n",
              "      <td>...</td>\n",
              "      <td>...</td>\n",
              "      <td>...</td>\n",
              "      <td>...</td>\n",
              "      <td>...</td>\n",
              "      <td>...</td>\n",
              "      <td>...</td>\n",
              "      <td>...</td>\n",
              "      <td>...</td>\n",
              "      <td>...</td>\n",
              "      <td>...</td>\n",
              "      <td>...</td>\n",
              "      <td>...</td>\n",
              "      <td>...</td>\n",
              "      <td>...</td>\n",
              "    </tr>\n",
              "    <tr>\n",
              "      <th>35059</th>\n",
              "      <td>35060</td>\n",
              "      <td>2017</td>\n",
              "      <td>2</td>\n",
              "      <td>28</td>\n",
              "      <td>19</td>\n",
              "      <td>12.0</td>\n",
              "      <td>29.0</td>\n",
              "      <td>5.0</td>\n",
              "      <td>35.0</td>\n",
              "      <td>400.0</td>\n",
              "      <td>95.0</td>\n",
              "      <td>12.5</td>\n",
              "      <td>1013.5</td>\n",
              "      <td>-16.2</td>\n",
              "      <td>0.0</td>\n",
              "      <td>NW</td>\n",
              "      <td>2.4</td>\n",
              "      <td>Aotizhongxin</td>\n",
              "    </tr>\n",
              "    <tr>\n",
              "      <th>35060</th>\n",
              "      <td>35061</td>\n",
              "      <td>2017</td>\n",
              "      <td>2</td>\n",
              "      <td>28</td>\n",
              "      <td>20</td>\n",
              "      <td>13.0</td>\n",
              "      <td>37.0</td>\n",
              "      <td>7.0</td>\n",
              "      <td>45.0</td>\n",
              "      <td>500.0</td>\n",
              "      <td>81.0</td>\n",
              "      <td>11.6</td>\n",
              "      <td>1013.6</td>\n",
              "      <td>-15.1</td>\n",
              "      <td>0.0</td>\n",
              "      <td>WNW</td>\n",
              "      <td>0.9</td>\n",
              "      <td>Aotizhongxin</td>\n",
              "    </tr>\n",
              "    <tr>\n",
              "      <th>35061</th>\n",
              "      <td>35062</td>\n",
              "      <td>2017</td>\n",
              "      <td>2</td>\n",
              "      <td>28</td>\n",
              "      <td>21</td>\n",
              "      <td>16.0</td>\n",
              "      <td>37.0</td>\n",
              "      <td>10.0</td>\n",
              "      <td>66.0</td>\n",
              "      <td>700.0</td>\n",
              "      <td>58.0</td>\n",
              "      <td>10.8</td>\n",
              "      <td>1014.2</td>\n",
              "      <td>-13.3</td>\n",
              "      <td>0.0</td>\n",
              "      <td>NW</td>\n",
              "      <td>1.1</td>\n",
              "      <td>Aotizhongxin</td>\n",
              "    </tr>\n",
              "    <tr>\n",
              "      <th>35062</th>\n",
              "      <td>35063</td>\n",
              "      <td>2017</td>\n",
              "      <td>2</td>\n",
              "      <td>28</td>\n",
              "      <td>22</td>\n",
              "      <td>21.0</td>\n",
              "      <td>44.0</td>\n",
              "      <td>12.0</td>\n",
              "      <td>87.0</td>\n",
              "      <td>700.0</td>\n",
              "      <td>35.0</td>\n",
              "      <td>10.5</td>\n",
              "      <td>1014.4</td>\n",
              "      <td>-12.9</td>\n",
              "      <td>0.0</td>\n",
              "      <td>NNW</td>\n",
              "      <td>1.2</td>\n",
              "      <td>Aotizhongxin</td>\n",
              "    </tr>\n",
              "    <tr>\n",
              "      <th>35063</th>\n",
              "      <td>35064</td>\n",
              "      <td>2017</td>\n",
              "      <td>2</td>\n",
              "      <td>28</td>\n",
              "      <td>23</td>\n",
              "      <td>19.0</td>\n",
              "      <td>31.0</td>\n",
              "      <td>10.0</td>\n",
              "      <td>79.0</td>\n",
              "      <td>600.0</td>\n",
              "      <td>42.0</td>\n",
              "      <td>8.6</td>\n",
              "      <td>1014.1</td>\n",
              "      <td>-15.9</td>\n",
              "      <td>0.0</td>\n",
              "      <td>NNE</td>\n",
              "      <td>1.3</td>\n",
              "      <td>Aotizhongxin</td>\n",
              "    </tr>\n",
              "  </tbody>\n",
              "</table>\n",
              "<p>35064 rows × 18 columns</p>\n",
              "</div>"
            ],
            "text/plain": [
              "          No  year  month  day  hour  ...  DEWP  RAIN   wd  WSPM       station\n",
              "0          1  2013      3    1     0  ... -18.8   0.0  NNW   4.4  Aotizhongxin\n",
              "1          2  2013      3    1     1  ... -18.2   0.0    N   4.7  Aotizhongxin\n",
              "2          3  2013      3    1     2  ... -18.2   0.0  NNW   5.6  Aotizhongxin\n",
              "3          4  2013      3    1     3  ... -19.4   0.0   NW   3.1  Aotizhongxin\n",
              "4          5  2013      3    1     4  ... -19.5   0.0    N   2.0  Aotizhongxin\n",
              "...      ...   ...    ...  ...   ...  ...   ...   ...  ...   ...           ...\n",
              "35059  35060  2017      2   28    19  ... -16.2   0.0   NW   2.4  Aotizhongxin\n",
              "35060  35061  2017      2   28    20  ... -15.1   0.0  WNW   0.9  Aotizhongxin\n",
              "35061  35062  2017      2   28    21  ... -13.3   0.0   NW   1.1  Aotizhongxin\n",
              "35062  35063  2017      2   28    22  ... -12.9   0.0  NNW   1.2  Aotizhongxin\n",
              "35063  35064  2017      2   28    23  ... -15.9   0.0  NNE   1.3  Aotizhongxin\n",
              "\n",
              "[35064 rows x 18 columns]"
            ]
          },
          "metadata": {
            "tags": []
          },
          "execution_count": 125
        }
      ]
    },
    {
      "cell_type": "markdown",
      "metadata": {
        "id": "vqLJ5FQ2CIr2"
      },
      "source": [
        "#Step:3 Pre-processing"
      ]
    },
    {
      "cell_type": "code",
      "metadata": {
        "colab": {
          "base_uri": "https://localhost:8080/",
          "height": 422
        },
        "id": "pjHXuPhTB-3a",
        "outputId": "b1e472b2-47a6-4a27-a66d-1e9e79776671"
      },
      "source": [
        "dataset = dataset.dropna(axis =0)\n",
        "dataset"
      ],
      "execution_count": 126,
      "outputs": [
        {
          "output_type": "execute_result",
          "data": {
            "text/html": [
              "<div>\n",
              "<style scoped>\n",
              "    .dataframe tbody tr th:only-of-type {\n",
              "        vertical-align: middle;\n",
              "    }\n",
              "\n",
              "    .dataframe tbody tr th {\n",
              "        vertical-align: top;\n",
              "    }\n",
              "\n",
              "    .dataframe thead th {\n",
              "        text-align: right;\n",
              "    }\n",
              "</style>\n",
              "<table border=\"1\" class=\"dataframe\">\n",
              "  <thead>\n",
              "    <tr style=\"text-align: right;\">\n",
              "      <th></th>\n",
              "      <th>No</th>\n",
              "      <th>year</th>\n",
              "      <th>month</th>\n",
              "      <th>day</th>\n",
              "      <th>hour</th>\n",
              "      <th>PM2.5</th>\n",
              "      <th>PM10</th>\n",
              "      <th>SO2</th>\n",
              "      <th>NO2</th>\n",
              "      <th>CO</th>\n",
              "      <th>O3</th>\n",
              "      <th>TEMP</th>\n",
              "      <th>PRES</th>\n",
              "      <th>DEWP</th>\n",
              "      <th>RAIN</th>\n",
              "      <th>wd</th>\n",
              "      <th>WSPM</th>\n",
              "      <th>station</th>\n",
              "    </tr>\n",
              "  </thead>\n",
              "  <tbody>\n",
              "    <tr>\n",
              "      <th>0</th>\n",
              "      <td>1</td>\n",
              "      <td>2013</td>\n",
              "      <td>3</td>\n",
              "      <td>1</td>\n",
              "      <td>0</td>\n",
              "      <td>4.0</td>\n",
              "      <td>4.0</td>\n",
              "      <td>4.0</td>\n",
              "      <td>7.0</td>\n",
              "      <td>300.0</td>\n",
              "      <td>77.0</td>\n",
              "      <td>-0.7</td>\n",
              "      <td>1023.0</td>\n",
              "      <td>-18.8</td>\n",
              "      <td>0.0</td>\n",
              "      <td>NNW</td>\n",
              "      <td>4.4</td>\n",
              "      <td>Aotizhongxin</td>\n",
              "    </tr>\n",
              "    <tr>\n",
              "      <th>1</th>\n",
              "      <td>2</td>\n",
              "      <td>2013</td>\n",
              "      <td>3</td>\n",
              "      <td>1</td>\n",
              "      <td>1</td>\n",
              "      <td>8.0</td>\n",
              "      <td>8.0</td>\n",
              "      <td>4.0</td>\n",
              "      <td>7.0</td>\n",
              "      <td>300.0</td>\n",
              "      <td>77.0</td>\n",
              "      <td>-1.1</td>\n",
              "      <td>1023.2</td>\n",
              "      <td>-18.2</td>\n",
              "      <td>0.0</td>\n",
              "      <td>N</td>\n",
              "      <td>4.7</td>\n",
              "      <td>Aotizhongxin</td>\n",
              "    </tr>\n",
              "    <tr>\n",
              "      <th>2</th>\n",
              "      <td>3</td>\n",
              "      <td>2013</td>\n",
              "      <td>3</td>\n",
              "      <td>1</td>\n",
              "      <td>2</td>\n",
              "      <td>7.0</td>\n",
              "      <td>7.0</td>\n",
              "      <td>5.0</td>\n",
              "      <td>10.0</td>\n",
              "      <td>300.0</td>\n",
              "      <td>73.0</td>\n",
              "      <td>-1.1</td>\n",
              "      <td>1023.5</td>\n",
              "      <td>-18.2</td>\n",
              "      <td>0.0</td>\n",
              "      <td>NNW</td>\n",
              "      <td>5.6</td>\n",
              "      <td>Aotizhongxin</td>\n",
              "    </tr>\n",
              "    <tr>\n",
              "      <th>3</th>\n",
              "      <td>4</td>\n",
              "      <td>2013</td>\n",
              "      <td>3</td>\n",
              "      <td>1</td>\n",
              "      <td>3</td>\n",
              "      <td>6.0</td>\n",
              "      <td>6.0</td>\n",
              "      <td>11.0</td>\n",
              "      <td>11.0</td>\n",
              "      <td>300.0</td>\n",
              "      <td>72.0</td>\n",
              "      <td>-1.4</td>\n",
              "      <td>1024.5</td>\n",
              "      <td>-19.4</td>\n",
              "      <td>0.0</td>\n",
              "      <td>NW</td>\n",
              "      <td>3.1</td>\n",
              "      <td>Aotizhongxin</td>\n",
              "    </tr>\n",
              "    <tr>\n",
              "      <th>4</th>\n",
              "      <td>5</td>\n",
              "      <td>2013</td>\n",
              "      <td>3</td>\n",
              "      <td>1</td>\n",
              "      <td>4</td>\n",
              "      <td>3.0</td>\n",
              "      <td>3.0</td>\n",
              "      <td>12.0</td>\n",
              "      <td>12.0</td>\n",
              "      <td>300.0</td>\n",
              "      <td>72.0</td>\n",
              "      <td>-2.0</td>\n",
              "      <td>1025.2</td>\n",
              "      <td>-19.5</td>\n",
              "      <td>0.0</td>\n",
              "      <td>N</td>\n",
              "      <td>2.0</td>\n",
              "      <td>Aotizhongxin</td>\n",
              "    </tr>\n",
              "    <tr>\n",
              "      <th>...</th>\n",
              "      <td>...</td>\n",
              "      <td>...</td>\n",
              "      <td>...</td>\n",
              "      <td>...</td>\n",
              "      <td>...</td>\n",
              "      <td>...</td>\n",
              "      <td>...</td>\n",
              "      <td>...</td>\n",
              "      <td>...</td>\n",
              "      <td>...</td>\n",
              "      <td>...</td>\n",
              "      <td>...</td>\n",
              "      <td>...</td>\n",
              "      <td>...</td>\n",
              "      <td>...</td>\n",
              "      <td>...</td>\n",
              "      <td>...</td>\n",
              "      <td>...</td>\n",
              "    </tr>\n",
              "    <tr>\n",
              "      <th>35059</th>\n",
              "      <td>35060</td>\n",
              "      <td>2017</td>\n",
              "      <td>2</td>\n",
              "      <td>28</td>\n",
              "      <td>19</td>\n",
              "      <td>12.0</td>\n",
              "      <td>29.0</td>\n",
              "      <td>5.0</td>\n",
              "      <td>35.0</td>\n",
              "      <td>400.0</td>\n",
              "      <td>95.0</td>\n",
              "      <td>12.5</td>\n",
              "      <td>1013.5</td>\n",
              "      <td>-16.2</td>\n",
              "      <td>0.0</td>\n",
              "      <td>NW</td>\n",
              "      <td>2.4</td>\n",
              "      <td>Aotizhongxin</td>\n",
              "    </tr>\n",
              "    <tr>\n",
              "      <th>35060</th>\n",
              "      <td>35061</td>\n",
              "      <td>2017</td>\n",
              "      <td>2</td>\n",
              "      <td>28</td>\n",
              "      <td>20</td>\n",
              "      <td>13.0</td>\n",
              "      <td>37.0</td>\n",
              "      <td>7.0</td>\n",
              "      <td>45.0</td>\n",
              "      <td>500.0</td>\n",
              "      <td>81.0</td>\n",
              "      <td>11.6</td>\n",
              "      <td>1013.6</td>\n",
              "      <td>-15.1</td>\n",
              "      <td>0.0</td>\n",
              "      <td>WNW</td>\n",
              "      <td>0.9</td>\n",
              "      <td>Aotizhongxin</td>\n",
              "    </tr>\n",
              "    <tr>\n",
              "      <th>35061</th>\n",
              "      <td>35062</td>\n",
              "      <td>2017</td>\n",
              "      <td>2</td>\n",
              "      <td>28</td>\n",
              "      <td>21</td>\n",
              "      <td>16.0</td>\n",
              "      <td>37.0</td>\n",
              "      <td>10.0</td>\n",
              "      <td>66.0</td>\n",
              "      <td>700.0</td>\n",
              "      <td>58.0</td>\n",
              "      <td>10.8</td>\n",
              "      <td>1014.2</td>\n",
              "      <td>-13.3</td>\n",
              "      <td>0.0</td>\n",
              "      <td>NW</td>\n",
              "      <td>1.1</td>\n",
              "      <td>Aotizhongxin</td>\n",
              "    </tr>\n",
              "    <tr>\n",
              "      <th>35062</th>\n",
              "      <td>35063</td>\n",
              "      <td>2017</td>\n",
              "      <td>2</td>\n",
              "      <td>28</td>\n",
              "      <td>22</td>\n",
              "      <td>21.0</td>\n",
              "      <td>44.0</td>\n",
              "      <td>12.0</td>\n",
              "      <td>87.0</td>\n",
              "      <td>700.0</td>\n",
              "      <td>35.0</td>\n",
              "      <td>10.5</td>\n",
              "      <td>1014.4</td>\n",
              "      <td>-12.9</td>\n",
              "      <td>0.0</td>\n",
              "      <td>NNW</td>\n",
              "      <td>1.2</td>\n",
              "      <td>Aotizhongxin</td>\n",
              "    </tr>\n",
              "    <tr>\n",
              "      <th>35063</th>\n",
              "      <td>35064</td>\n",
              "      <td>2017</td>\n",
              "      <td>2</td>\n",
              "      <td>28</td>\n",
              "      <td>23</td>\n",
              "      <td>19.0</td>\n",
              "      <td>31.0</td>\n",
              "      <td>10.0</td>\n",
              "      <td>79.0</td>\n",
              "      <td>600.0</td>\n",
              "      <td>42.0</td>\n",
              "      <td>8.6</td>\n",
              "      <td>1014.1</td>\n",
              "      <td>-15.9</td>\n",
              "      <td>0.0</td>\n",
              "      <td>NNE</td>\n",
              "      <td>1.3</td>\n",
              "      <td>Aotizhongxin</td>\n",
              "    </tr>\n",
              "  </tbody>\n",
              "</table>\n",
              "<p>31815 rows × 18 columns</p>\n",
              "</div>"
            ],
            "text/plain": [
              "          No  year  month  day  hour  ...  DEWP  RAIN   wd  WSPM       station\n",
              "0          1  2013      3    1     0  ... -18.8   0.0  NNW   4.4  Aotizhongxin\n",
              "1          2  2013      3    1     1  ... -18.2   0.0    N   4.7  Aotizhongxin\n",
              "2          3  2013      3    1     2  ... -18.2   0.0  NNW   5.6  Aotizhongxin\n",
              "3          4  2013      3    1     3  ... -19.4   0.0   NW   3.1  Aotizhongxin\n",
              "4          5  2013      3    1     4  ... -19.5   0.0    N   2.0  Aotizhongxin\n",
              "...      ...   ...    ...  ...   ...  ...   ...   ...  ...   ...           ...\n",
              "35059  35060  2017      2   28    19  ... -16.2   0.0   NW   2.4  Aotizhongxin\n",
              "35060  35061  2017      2   28    20  ... -15.1   0.0  WNW   0.9  Aotizhongxin\n",
              "35061  35062  2017      2   28    21  ... -13.3   0.0   NW   1.1  Aotizhongxin\n",
              "35062  35063  2017      2   28    22  ... -12.9   0.0  NNW   1.2  Aotizhongxin\n",
              "35063  35064  2017      2   28    23  ... -15.9   0.0  NNE   1.3  Aotizhongxin\n",
              "\n",
              "[31815 rows x 18 columns]"
            ]
          },
          "metadata": {
            "tags": []
          },
          "execution_count": 126
        }
      ]
    },
    {
      "cell_type": "markdown",
      "metadata": {
        "id": "yyq4ym7VCOqx"
      },
      "source": [
        "#Step:4 Feature Selection\n",
        "\n"
      ]
    },
    {
      "cell_type": "code",
      "metadata": {
        "colab": {
          "base_uri": "https://localhost:8080/",
          "height": 422
        },
        "id": "d3FCP7opCK1a",
        "outputId": "27ab31ee-7d60-4db3-d1b3-be64d5eaa35d"
      },
      "source": [
        "df = dataset[['month','day','PM2.5', 'PM10']]\n",
        "df = df[:1200]\n",
        "df"
      ],
      "execution_count": 127,
      "outputs": [
        {
          "output_type": "execute_result",
          "data": {
            "text/html": [
              "<div>\n",
              "<style scoped>\n",
              "    .dataframe tbody tr th:only-of-type {\n",
              "        vertical-align: middle;\n",
              "    }\n",
              "\n",
              "    .dataframe tbody tr th {\n",
              "        vertical-align: top;\n",
              "    }\n",
              "\n",
              "    .dataframe thead th {\n",
              "        text-align: right;\n",
              "    }\n",
              "</style>\n",
              "<table border=\"1\" class=\"dataframe\">\n",
              "  <thead>\n",
              "    <tr style=\"text-align: right;\">\n",
              "      <th></th>\n",
              "      <th>month</th>\n",
              "      <th>day</th>\n",
              "      <th>PM2.5</th>\n",
              "      <th>PM10</th>\n",
              "    </tr>\n",
              "  </thead>\n",
              "  <tbody>\n",
              "    <tr>\n",
              "      <th>0</th>\n",
              "      <td>3</td>\n",
              "      <td>1</td>\n",
              "      <td>4.0</td>\n",
              "      <td>4.0</td>\n",
              "    </tr>\n",
              "    <tr>\n",
              "      <th>1</th>\n",
              "      <td>3</td>\n",
              "      <td>1</td>\n",
              "      <td>8.0</td>\n",
              "      <td>8.0</td>\n",
              "    </tr>\n",
              "    <tr>\n",
              "      <th>2</th>\n",
              "      <td>3</td>\n",
              "      <td>1</td>\n",
              "      <td>7.0</td>\n",
              "      <td>7.0</td>\n",
              "    </tr>\n",
              "    <tr>\n",
              "      <th>3</th>\n",
              "      <td>3</td>\n",
              "      <td>1</td>\n",
              "      <td>6.0</td>\n",
              "      <td>6.0</td>\n",
              "    </tr>\n",
              "    <tr>\n",
              "      <th>4</th>\n",
              "      <td>3</td>\n",
              "      <td>1</td>\n",
              "      <td>3.0</td>\n",
              "      <td>3.0</td>\n",
              "    </tr>\n",
              "    <tr>\n",
              "      <th>...</th>\n",
              "      <td>...</td>\n",
              "      <td>...</td>\n",
              "      <td>...</td>\n",
              "      <td>...</td>\n",
              "    </tr>\n",
              "    <tr>\n",
              "      <th>1342</th>\n",
              "      <td>4</td>\n",
              "      <td>25</td>\n",
              "      <td>12.0</td>\n",
              "      <td>42.0</td>\n",
              "    </tr>\n",
              "    <tr>\n",
              "      <th>1343</th>\n",
              "      <td>4</td>\n",
              "      <td>25</td>\n",
              "      <td>29.0</td>\n",
              "      <td>104.0</td>\n",
              "    </tr>\n",
              "    <tr>\n",
              "      <th>1344</th>\n",
              "      <td>4</td>\n",
              "      <td>26</td>\n",
              "      <td>24.0</td>\n",
              "      <td>88.0</td>\n",
              "    </tr>\n",
              "    <tr>\n",
              "      <th>1345</th>\n",
              "      <td>4</td>\n",
              "      <td>26</td>\n",
              "      <td>41.0</td>\n",
              "      <td>146.0</td>\n",
              "    </tr>\n",
              "    <tr>\n",
              "      <th>1346</th>\n",
              "      <td>4</td>\n",
              "      <td>26</td>\n",
              "      <td>46.0</td>\n",
              "      <td>206.0</td>\n",
              "    </tr>\n",
              "  </tbody>\n",
              "</table>\n",
              "<p>1200 rows × 4 columns</p>\n",
              "</div>"
            ],
            "text/plain": [
              "      month  day  PM2.5   PM10\n",
              "0         3    1    4.0    4.0\n",
              "1         3    1    8.0    8.0\n",
              "2         3    1    7.0    7.0\n",
              "3         3    1    6.0    6.0\n",
              "4         3    1    3.0    3.0\n",
              "...     ...  ...    ...    ...\n",
              "1342      4   25   12.0   42.0\n",
              "1343      4   25   29.0  104.0\n",
              "1344      4   26   24.0   88.0\n",
              "1345      4   26   41.0  146.0\n",
              "1346      4   26   46.0  206.0\n",
              "\n",
              "[1200 rows x 4 columns]"
            ]
          },
          "metadata": {
            "tags": []
          },
          "execution_count": 127
        }
      ]
    },
    {
      "cell_type": "code",
      "metadata": {
        "colab": {
          "base_uri": "https://localhost:8080/"
        },
        "id": "6sATBEtSCQzV",
        "outputId": "fa22e714-a04a-496b-de0a-baf755abf8e1"
      },
      "source": [
        "df.dtypes"
      ],
      "execution_count": 128,
      "outputs": [
        {
          "output_type": "execute_result",
          "data": {
            "text/plain": [
              "month      int64\n",
              "day        int64\n",
              "PM2.5    float64\n",
              "PM10     float64\n",
              "dtype: object"
            ]
          },
          "metadata": {
            "tags": []
          },
          "execution_count": 128
        }
      ]
    },
    {
      "cell_type": "code",
      "metadata": {
        "id": "4wOpOuLJCWvV"
      },
      "source": [
        "X = np.array(df['PM2.5']).reshape(-1,1)\n",
        "Y = np.array(df['PM10']).reshape(-1,1)\n",
        "month = np.array(df['month'])\n",
        "day = np.array(df['day'])"
      ],
      "execution_count": 129,
      "outputs": []
    },
    {
      "cell_type": "markdown",
      "metadata": {
        "id": "SrCEQi2sCvJ5"
      },
      "source": [
        "#Step:5 Model Creation\n",
        "\n"
      ]
    },
    {
      "cell_type": "code",
      "metadata": {
        "id": "VBkCHqtSCqbE"
      },
      "source": [
        "model = LocalOutlierFactor(n_neighbors= 35 , contamination= 0.1)"
      ],
      "execution_count": 130,
      "outputs": []
    },
    {
      "cell_type": "markdown",
      "metadata": {
        "id": "RQQxHa21C0TE"
      },
      "source": [
        "#Step:6 Prediction\n",
        "\n"
      ]
    },
    {
      "cell_type": "code",
      "metadata": {
        "colab": {
          "base_uri": "https://localhost:8080/"
        },
        "id": "EWfOEUd4CxN5",
        "outputId": "a75e31e7-524f-4cc7-9117-8b23f9729022"
      },
      "source": [
        "label = model.fit_predict(X,Y)\n",
        "label"
      ],
      "execution_count": 131,
      "outputs": [
        {
          "output_type": "execute_result",
          "data": {
            "text/plain": [
              "array([-1,  1, -1, ...,  1,  1,  1])"
            ]
          },
          "metadata": {
            "tags": []
          },
          "execution_count": 131
        }
      ]
    },
    {
      "cell_type": "code",
      "metadata": {
        "colab": {
          "base_uri": "https://localhost:8080/"
        },
        "id": "15PRAseJC2mY",
        "outputId": "014042c9-6587-4793-f62d-66eae87ca210"
      },
      "source": [
        "index = []\n",
        "for i in range(len(label)):\n",
        "  if label[i]!=1:\n",
        "    index.append(i)\n",
        "print(\"Outliers: \")\n",
        "for i in index:\n",
        "  print(\"Month\",month[i],\" Day\", day[i])"
      ],
      "execution_count": 132,
      "outputs": [
        {
          "output_type": "stream",
          "text": [
            "Outliers: \n",
            "Month 3  Day 1\n",
            "Month 3  Day 1\n",
            "Month 3  Day 1\n",
            "Month 3  Day 1\n",
            "Month 3  Day 1\n",
            "Month 3  Day 1\n",
            "Month 3  Day 1\n",
            "Month 3  Day 1\n",
            "Month 3  Day 2\n",
            "Month 3  Day 2\n",
            "Month 3  Day 2\n",
            "Month 3  Day 6\n",
            "Month 3  Day 6\n",
            "Month 3  Day 6\n",
            "Month 3  Day 7\n",
            "Month 3  Day 7\n",
            "Month 3  Day 7\n",
            "Month 3  Day 7\n",
            "Month 3  Day 7\n",
            "Month 3  Day 7\n",
            "Month 3  Day 7\n",
            "Month 3  Day 8\n",
            "Month 3  Day 8\n",
            "Month 3  Day 8\n",
            "Month 3  Day 8\n",
            "Month 3  Day 8\n",
            "Month 3  Day 8\n",
            "Month 3  Day 9\n",
            "Month 3  Day 9\n",
            "Month 3  Day 10\n",
            "Month 3  Day 10\n",
            "Month 3  Day 10\n",
            "Month 3  Day 11\n",
            "Month 3  Day 12\n",
            "Month 3  Day 12\n",
            "Month 3  Day 12\n",
            "Month 3  Day 13\n",
            "Month 3  Day 13\n",
            "Month 3  Day 14\n",
            "Month 3  Day 14\n",
            "Month 3  Day 15\n",
            "Month 3  Day 15\n",
            "Month 3  Day 15\n",
            "Month 3  Day 15\n",
            "Month 3  Day 16\n",
            "Month 3  Day 16\n",
            "Month 3  Day 16\n",
            "Month 3  Day 16\n",
            "Month 3  Day 17\n",
            "Month 3  Day 17\n",
            "Month 3  Day 17\n",
            "Month 3  Day 17\n",
            "Month 3  Day 17\n",
            "Month 3  Day 17\n",
            "Month 3  Day 17\n",
            "Month 3  Day 17\n",
            "Month 3  Day 17\n",
            "Month 3  Day 17\n",
            "Month 3  Day 17\n",
            "Month 3  Day 17\n",
            "Month 3  Day 18\n",
            "Month 3  Day 18\n",
            "Month 3  Day 18\n",
            "Month 3  Day 21\n",
            "Month 3  Day 25\n",
            "Month 3  Day 26\n",
            "Month 3  Day 26\n",
            "Month 3  Day 27\n",
            "Month 3  Day 27\n",
            "Month 3  Day 27\n",
            "Month 3  Day 28\n",
            "Month 3  Day 28\n",
            "Month 3  Day 31\n",
            "Month 4  Day 2\n",
            "Month 4  Day 2\n",
            "Month 4  Day 2\n",
            "Month 4  Day 3\n",
            "Month 4  Day 3\n",
            "Month 4  Day 5\n",
            "Month 4  Day 5\n",
            "Month 4  Day 6\n",
            "Month 4  Day 6\n",
            "Month 4  Day 9\n",
            "Month 4  Day 9\n",
            "Month 4  Day 9\n",
            "Month 4  Day 9\n",
            "Month 4  Day 9\n",
            "Month 4  Day 10\n",
            "Month 4  Day 10\n",
            "Month 4  Day 10\n",
            "Month 4  Day 10\n",
            "Month 4  Day 10\n",
            "Month 4  Day 11\n",
            "Month 4  Day 11\n",
            "Month 4  Day 11\n",
            "Month 4  Day 13\n",
            "Month 4  Day 14\n",
            "Month 4  Day 14\n",
            "Month 4  Day 14\n",
            "Month 4  Day 14\n",
            "Month 4  Day 18\n",
            "Month 4  Day 18\n",
            "Month 4  Day 18\n",
            "Month 4  Day 18\n",
            "Month 4  Day 18\n",
            "Month 4  Day 18\n",
            "Month 4  Day 18\n",
            "Month 4  Day 23\n",
            "Month 4  Day 23\n",
            "Month 4  Day 23\n",
            "Month 4  Day 23\n",
            "Month 4  Day 24\n",
            "Month 4  Day 24\n",
            "Month 4  Day 24\n",
            "Month 4  Day 25\n",
            "Month 4  Day 25\n",
            "Month 4  Day 25\n",
            "Month 4  Day 25\n",
            "Month 4  Day 25\n"
          ],
          "name": "stdout"
        }
      ]
    },
    {
      "cell_type": "markdown",
      "metadata": {
        "id": "z2LZa_VsLOlF"
      },
      "source": [
        "#InterQuantile Range\n",
        "75%- 25% values in a dataset"
      ]
    },
    {
      "cell_type": "markdown",
      "metadata": {
        "id": "gCa4ZGQ7MZYX"
      },
      "source": [
        "Steps\n",
        "1. Arrange the data in increasing order\n",
        "2. Calculate first(q1) and third quartile(q3)\n",
        "3. Find interquartile range (q3-q1)\n",
        "4.Find lower bound q1*1.5\n",
        "5.Find upper bound q3*1.5\n",
        "Anything that lies outside of lower and upper bound is an outlier"
      ]
    },
    {
      "cell_type": "code",
      "metadata": {
        "id": "AUrJRMEOMa22"
      },
      "source": [
        "dataset= [11,10,12,14,12,15,14,13,15,102,12,14,17,19,107, 10,13,12,14,12,108,12,11,14,13,15,10,15,12,10,14,13,15,10]"
      ],
      "execution_count": 133,
      "outputs": []
    },
    {
      "cell_type": "code",
      "metadata": {
        "colab": {
          "base_uri": "https://localhost:8080/"
        },
        "id": "8X2clbuVMftD",
        "outputId": "f502ccd6-f24d-4de8-e784-e0f26049250b"
      },
      "source": [
        "## Perform all the steps of IQR\n",
        "sorted(dataset)"
      ],
      "execution_count": 134,
      "outputs": [
        {
          "output_type": "execute_result",
          "data": {
            "text/plain": [
              "[10,\n",
              " 10,\n",
              " 10,\n",
              " 10,\n",
              " 10,\n",
              " 11,\n",
              " 11,\n",
              " 12,\n",
              " 12,\n",
              " 12,\n",
              " 12,\n",
              " 12,\n",
              " 12,\n",
              " 12,\n",
              " 13,\n",
              " 13,\n",
              " 13,\n",
              " 13,\n",
              " 14,\n",
              " 14,\n",
              " 14,\n",
              " 14,\n",
              " 14,\n",
              " 14,\n",
              " 15,\n",
              " 15,\n",
              " 15,\n",
              " 15,\n",
              " 15,\n",
              " 17,\n",
              " 19,\n",
              " 102,\n",
              " 107,\n",
              " 108]"
            ]
          },
          "metadata": {
            "tags": []
          },
          "execution_count": 134
        }
      ]
    },
    {
      "cell_type": "code",
      "metadata": {
        "id": "hGGpikqoMkSU"
      },
      "source": [
        "quantile1, quantile3= np.percentile(dataset,[25,75])"
      ],
      "execution_count": 135,
      "outputs": []
    },
    {
      "cell_type": "code",
      "metadata": {
        "colab": {
          "base_uri": "https://localhost:8080/"
        },
        "id": "SWTZVo2wMovd",
        "outputId": "d8362716-a02e-4f07-dd70-82b5d0a07987"
      },
      "source": [
        "print(quantile1,quantile3)\n"
      ],
      "execution_count": 136,
      "outputs": [
        {
          "output_type": "stream",
          "text": [
            "12.0 15.0\n"
          ],
          "name": "stdout"
        }
      ]
    },
    {
      "cell_type": "code",
      "metadata": {
        "colab": {
          "base_uri": "https://localhost:8080/"
        },
        "id": "EALewSmIMqf7",
        "outputId": "07a092b8-11c8-4f82-a4ff-41d87c0e9cf9"
      },
      "source": [
        "## Find the IQR\n",
        "\n",
        "iqr_value=quantile3-quantile1\n",
        "print(iqr_value)"
      ],
      "execution_count": 137,
      "outputs": [
        {
          "output_type": "stream",
          "text": [
            "3.0\n"
          ],
          "name": "stdout"
        }
      ]
    },
    {
      "cell_type": "code",
      "metadata": {
        "id": "ncSmb6GAMsEI"
      },
      "source": [
        "\n",
        "## Find the lower bound value and the higher bound value\n",
        "\n",
        "lower_bound_val = quantile1 -(1.5 * iqr_value) \n",
        "upper_bound_val = quantile3 +(1.5 * iqr_value)"
      ],
      "execution_count": 138,
      "outputs": []
    },
    {
      "cell_type": "code",
      "metadata": {
        "colab": {
          "base_uri": "https://localhost:8080/"
        },
        "id": "8pFD1g4uMvm8",
        "outputId": "ac3f96a9-e2cf-4838-c7c8-c75672ee78a6"
      },
      "source": [
        "print(lower_bound_val,upper_bound_val)\n"
      ],
      "execution_count": 139,
      "outputs": [
        {
          "output_type": "stream",
          "text": [
            "7.5 19.5\n"
          ],
          "name": "stdout"
        }
      ]
    },
    {
      "cell_type": "markdown",
      "metadata": {
        "id": "zAg8a_XCM67n"
      },
      "source": [
        "Values greater than 19.5 and lower than 7.5 are outliers"
      ]
    },
    {
      "cell_type": "markdown",
      "metadata": {
        "id": "n2dJxdMuNQgu"
      },
      "source": [
        "Which Machine LEarning Models Are Sensitive To Outliers?\n",
        "\n",
        "Naivye Bayes Classifier--- Not Sensitive To Outliers\n",
        "\n",
        "SVM-------- Not Sensitive To Outliers\n",
        "\n",
        "Linear Regression---------- Sensitive To Outliers\n",
        "\n",
        "Logistic Regression------- Sensitive To Outliers\n",
        "\n",
        "Decision Tree Regressor or Classifier---- Not Sensitive\n",
        "\n",
        "Ensemble(RF,XGboost,GB)------- Not Sensitive\n",
        "\n",
        "KNN--------------------------- Not Sensitive\n",
        "\n",
        "Kmeans------------------------ Sensitive\n",
        "\n",
        "Hierarichal------------------- Sensitive\n",
        "\n",
        "PCA-------------------------- Sensitive\n",
        "\n",
        "Neural Networks-------------- Sensitive"
      ]
    },
    {
      "cell_type": "markdown",
      "metadata": {
        "id": "iq2NM0XcC0LU"
      },
      "source": [
        "Outliers Effect on Titanic Dataset"
      ]
    },
    {
      "cell_type": "code",
      "metadata": {
        "colab": {
          "base_uri": "https://localhost:8080/",
          "height": 205
        },
        "id": "2yODjoaTDBzT",
        "outputId": "fb59205a-cb94-4812-fa21-a435030d0768"
      },
      "source": [
        "titanic = pd.read_csv('/content/titanic.csv')\n",
        "titanic.head(5)"
      ],
      "execution_count": 140,
      "outputs": [
        {
          "output_type": "execute_result",
          "data": {
            "text/html": [
              "<div>\n",
              "<style scoped>\n",
              "    .dataframe tbody tr th:only-of-type {\n",
              "        vertical-align: middle;\n",
              "    }\n",
              "\n",
              "    .dataframe tbody tr th {\n",
              "        vertical-align: top;\n",
              "    }\n",
              "\n",
              "    .dataframe thead th {\n",
              "        text-align: right;\n",
              "    }\n",
              "</style>\n",
              "<table border=\"1\" class=\"dataframe\">\n",
              "  <thead>\n",
              "    <tr style=\"text-align: right;\">\n",
              "      <th></th>\n",
              "      <th>PassengerId</th>\n",
              "      <th>Pclass</th>\n",
              "      <th>Name</th>\n",
              "      <th>Sex</th>\n",
              "      <th>Age</th>\n",
              "      <th>SibSp</th>\n",
              "      <th>Parch</th>\n",
              "      <th>Ticket</th>\n",
              "      <th>Fare</th>\n",
              "      <th>Cabin</th>\n",
              "      <th>Embarked</th>\n",
              "    </tr>\n",
              "  </thead>\n",
              "  <tbody>\n",
              "    <tr>\n",
              "      <th>0</th>\n",
              "      <td>892</td>\n",
              "      <td>3</td>\n",
              "      <td>Kelly, Mr. James</td>\n",
              "      <td>male</td>\n",
              "      <td>34.5</td>\n",
              "      <td>0</td>\n",
              "      <td>0</td>\n",
              "      <td>330911</td>\n",
              "      <td>7.8292</td>\n",
              "      <td>NaN</td>\n",
              "      <td>Q</td>\n",
              "    </tr>\n",
              "    <tr>\n",
              "      <th>1</th>\n",
              "      <td>893</td>\n",
              "      <td>3</td>\n",
              "      <td>Wilkes, Mrs. James (Ellen Needs)</td>\n",
              "      <td>female</td>\n",
              "      <td>47.0</td>\n",
              "      <td>1</td>\n",
              "      <td>0</td>\n",
              "      <td>363272</td>\n",
              "      <td>7.0000</td>\n",
              "      <td>NaN</td>\n",
              "      <td>S</td>\n",
              "    </tr>\n",
              "    <tr>\n",
              "      <th>2</th>\n",
              "      <td>894</td>\n",
              "      <td>2</td>\n",
              "      <td>Myles, Mr. Thomas Francis</td>\n",
              "      <td>male</td>\n",
              "      <td>62.0</td>\n",
              "      <td>0</td>\n",
              "      <td>0</td>\n",
              "      <td>240276</td>\n",
              "      <td>9.6875</td>\n",
              "      <td>NaN</td>\n",
              "      <td>Q</td>\n",
              "    </tr>\n",
              "    <tr>\n",
              "      <th>3</th>\n",
              "      <td>895</td>\n",
              "      <td>3</td>\n",
              "      <td>Wirz, Mr. Albert</td>\n",
              "      <td>male</td>\n",
              "      <td>27.0</td>\n",
              "      <td>0</td>\n",
              "      <td>0</td>\n",
              "      <td>315154</td>\n",
              "      <td>8.6625</td>\n",
              "      <td>NaN</td>\n",
              "      <td>S</td>\n",
              "    </tr>\n",
              "    <tr>\n",
              "      <th>4</th>\n",
              "      <td>896</td>\n",
              "      <td>3</td>\n",
              "      <td>Hirvonen, Mrs. Alexander (Helga E Lindqvist)</td>\n",
              "      <td>female</td>\n",
              "      <td>22.0</td>\n",
              "      <td>1</td>\n",
              "      <td>1</td>\n",
              "      <td>3101298</td>\n",
              "      <td>12.2875</td>\n",
              "      <td>NaN</td>\n",
              "      <td>S</td>\n",
              "    </tr>\n",
              "  </tbody>\n",
              "</table>\n",
              "</div>"
            ],
            "text/plain": [
              "   PassengerId  Pclass  ... Cabin Embarked\n",
              "0          892       3  ...   NaN        Q\n",
              "1          893       3  ...   NaN        S\n",
              "2          894       2  ...   NaN        Q\n",
              "3          895       3  ...   NaN        S\n",
              "4          896       3  ...   NaN        S\n",
              "\n",
              "[5 rows x 11 columns]"
            ]
          },
          "metadata": {
            "tags": []
          },
          "execution_count": 140
        }
      ]
    },
    {
      "cell_type": "code",
      "metadata": {
        "colab": {
          "base_uri": "https://localhost:8080/"
        },
        "id": "1NDnDM98DWnC",
        "outputId": "75687dc4-822d-48f7-c7b5-31e0949500bf"
      },
      "source": [
        "titanic['Age'].isnull().sum()"
      ],
      "execution_count": 141,
      "outputs": [
        {
          "output_type": "execute_result",
          "data": {
            "text/plain": [
              "86"
            ]
          },
          "metadata": {
            "tags": []
          },
          "execution_count": 141
        }
      ]
    },
    {
      "cell_type": "code",
      "metadata": {
        "id": "hQvmIDf0DmOc"
      },
      "source": [
        "import seaborn as sns"
      ],
      "execution_count": 142,
      "outputs": []
    },
    {
      "cell_type": "code",
      "metadata": {
        "colab": {
          "base_uri": "https://localhost:8080/",
          "height": 354
        },
        "id": "SPO9I8_UDvPT",
        "outputId": "5cd58503-b6ae-4cb6-ef8c-97f542c1fae5"
      },
      "source": [
        "sns.distplot(titanic['Age'].fillna(100))"
      ],
      "execution_count": 143,
      "outputs": [
        {
          "output_type": "stream",
          "text": [
            "/usr/local/lib/python3.7/dist-packages/seaborn/distributions.py:2557: FutureWarning: `distplot` is a deprecated function and will be removed in a future version. Please adapt your code to use either `displot` (a figure-level function with similar flexibility) or `histplot` (an axes-level function for histograms).\n",
            "  warnings.warn(msg, FutureWarning)\n"
          ],
          "name": "stderr"
        },
        {
          "output_type": "execute_result",
          "data": {
            "text/plain": [
              "<matplotlib.axes._subplots.AxesSubplot at 0x7f933312b050>"
            ]
          },
          "metadata": {
            "tags": []
          },
          "execution_count": 143
        },
        {
          "output_type": "display_data",
          "data": {
            "image/png": "[encoded data removed]",
            "text/plain": [
              "<Figure size 432x288 with 1 Axes>"
            ]
          },
          "metadata": {
            "tags": [],
            "needs_background": "light"
          }
        }
      ]
    },
    {
      "cell_type": "markdown",
      "metadata": {
        "id": "GZU4LWWnEkrD"
      },
      "source": [
        "#Gaussian Distributed\n"
      ]
    },
    {
      "cell_type": "code",
      "metadata": {
        "colab": {
          "base_uri": "https://localhost:8080/",
          "height": 313
        },
        "id": "Fe_nktIJDyjr",
        "outputId": "d366057a-8c99-45b6-fb86-bd91e225620f"
      },
      "source": [
        "figure=titanic.Age.hist(bins=50)\n",
        "figure.set_title('Age')\n",
        "figure.set_xlabel('Age')\n",
        "figure.set_ylabel('No of passenger')"
      ],
      "execution_count": 144,
      "outputs": [
        {
          "output_type": "execute_result",
          "data": {
            "text/plain": [
              "Text(0, 0.5, 'No of passenger')"
            ]
          },
          "metadata": {
            "tags": []
          },
          "execution_count": 144
        },
        {
          "output_type": "display_data",
          "data": {
            "image/png": "[encoded data removed]",
            "text/plain": [
              "<Figure size 432x288 with 1 Axes>"
            ]
          },
          "metadata": {
            "tags": [],
            "needs_background": "light"
          }
        }
      ]
    },
    {
      "cell_type": "code",
      "metadata": {
        "colab": {
          "base_uri": "https://localhost:8080/",
          "height": 265
        },
        "id": "vqhtcv6gEocO",
        "outputId": "b8fc406c-80e3-42c5-e0bc-e50e90c41ccd"
      },
      "source": [
        "figure=titanic.boxplot(column=\"Age\")"
      ],
      "execution_count": 145,
      "outputs": [
        {
          "output_type": "display_data",
          "data": {
            "image/png": "[encoded data removed]",
            "text/plain": [
              "<Figure size 432x288 with 1 Axes>"
            ]
          },
          "metadata": {
            "tags": [],
            "needs_background": "light"
          }
        }
      ]
    },
    {
      "cell_type": "code",
      "metadata": {
        "colab": {
          "base_uri": "https://localhost:8080/"
        },
        "id": "tvAJbBQ1FI_a",
        "outputId": "39178026-f589-488e-da49-613530203d43"
      },
      "source": [
        "titanic['Age'].describe()"
      ],
      "execution_count": 146,
      "outputs": [
        {
          "output_type": "execute_result",
          "data": {
            "text/plain": [
              "count    332.000000\n",
              "mean      30.272590\n",
              "std       14.181209\n",
              "min        0.170000\n",
              "25%       21.000000\n",
              "50%       27.000000\n",
              "75%       39.000000\n",
              "max       76.000000\n",
              "Name: Age, dtype: float64"
            ]
          },
          "metadata": {
            "tags": []
          },
          "execution_count": 146
        }
      ]
    },
    {
      "cell_type": "markdown",
      "metadata": {
        "id": "4mH9nOgNFYkF"
      },
      "source": [
        "#If The Data Is Normally Distributed We use this\n",
        "\n",
        "##### Assuming Age follows A Gaussian Distribution we will calculate the boundaries which differentiates the outliers\n",
        "Consider 3 Standard Deviation because most of the 99.5% of data will get accumulated in this Standard Normal Distribution\n",
        "\n",
        "\n",
        "\n",
        "\n"
      ]
    },
    {
      "cell_type": "markdown",
      "metadata": {
        "id": "icax6zY2H6oB"
      },
      "source": [
        "![Screenshot-from-2020-03-06-17-26-30.webp](data:image/webp;base64,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)"
      ]
    },
    {
      "cell_type": "markdown",
      "metadata": {
        "id": "OlWOuSabHx4q"
      },
      "source": [
        "According to the Empirical Rule for Normal Distribution:\n",
        "\n",
        "1.68.27% of data lies within 1 standard deviation of the mean\n",
        "\n",
        "1.95.45% of data lies within 2 standard deviations of the mean\n",
        "\n",
        "3.99.73% of data lies within 3 standard deviations of the mean\n",
        "\n",
        "\n",
        "\n",
        "Thus, almost all the data lies within 3 standard deviations. This rule enables us to check for Outliers and is very helpful when determining the normality of any distribution."
      ]
    },
    {
      "cell_type": "code",
      "metadata": {
        "colab": {
          "base_uri": "https://localhost:8080/"
        },
        "id": "WPL8Ml4RHyY3",
        "outputId": "432c4501-68d4-4cdc-f0a6-bc64e4440937"
      },
      "source": [
        "uppper_boundary=titanic['Age'].mean() + 3* titanic['Age'].std()\n",
        "lower_boundary=titanic['Age'].mean() - 3* titanic['Age'].std()\n",
        "print(lower_boundary), print(uppper_boundary),print(titanic['Age'].mean())"
      ],
      "execution_count": 147,
      "outputs": [
        {
          "output_type": "stream",
          "text": [
            "-12.271037345427477\n",
            "72.81621806831905\n",
            "30.272590361445783\n"
          ],
          "name": "stdout"
        },
        {
          "output_type": "execute_result",
          "data": {
            "text/plain": [
              "(None, None, None)"
            ]
          },
          "metadata": {
            "tags": []
          },
          "execution_count": 147
        }
      ]
    },
    {
      "cell_type": "markdown",
      "metadata": {
        "id": "5sOOi7MWKCj5"
      },
      "source": [
        "If data is Skewed"
      ]
    },
    {
      "cell_type": "code",
      "metadata": {
        "colab": {
          "base_uri": "https://localhost:8080/",
          "height": 313
        },
        "id": "kaZ-BPIwLCQ_",
        "outputId": "79de2014-b628-42c3-ceaa-90fc1f511b2f"
      },
      "source": [
        "figure=titanic.Fare.hist(bins=50)\n",
        "figure.set_title('Fare')\n",
        "figure.set_xlabel('Fare')\n",
        "figure.set_ylabel('No of passenger')"
      ],
      "execution_count": 148,
      "outputs": [
        {
          "output_type": "execute_result",
          "data": {
            "text/plain": [
              "Text(0, 0.5, 'No of passenger')"
            ]
          },
          "metadata": {
            "tags": []
          },
          "execution_count": 148
        },
        {
          "output_type": "display_data",
          "data": {
            "image/png": "[encoded data removed]",
            "text/plain": [
              "<Figure size 432x288 with 1 Axes>"
            ]
          },
          "metadata": {
            "tags": [],
            "needs_background": "light"
          }
        }
      ]
    },
    {
      "cell_type": "code",
      "metadata": {
        "colab": {
          "base_uri": "https://localhost:8080/",
          "height": 283
        },
        "id": "cdAoubwNL84c",
        "outputId": "44d1dfca-e271-4def-e249-c5ed43834530"
      },
      "source": [
        "titanic.boxplot(column=\"Fare\")"
      ],
      "execution_count": 149,
      "outputs": [
        {
          "output_type": "execute_result",
          "data": {
            "text/plain": [
              "<matplotlib.axes._subplots.AxesSubplot at 0x7f93332c2790>"
            ]
          },
          "metadata": {
            "tags": []
          },
          "execution_count": 149
        },
        {
          "output_type": "display_data",
          "data": {
            "image/png": "[encoded data removed]",
            "text/plain": [
              "<Figure size 432x288 with 1 Axes>"
            ]
          },
          "metadata": {
            "tags": [],
            "needs_background": "light"
          }
        }
      ]
    },
    {
      "cell_type": "code",
      "metadata": {
        "colab": {
          "base_uri": "https://localhost:8080/"
        },
        "id": "fr4xVt41MBUR",
        "outputId": "6328d983-84e4-46dc-965f-fcedfbeffac4"
      },
      "source": [
        "titanic['Fare'].describe()"
      ],
      "execution_count": 150,
      "outputs": [
        {
          "output_type": "execute_result",
          "data": {
            "text/plain": [
              "count    417.000000\n",
              "mean      35.627188\n",
              "std       55.907576\n",
              "min        0.000000\n",
              "25%        7.895800\n",
              "50%       14.454200\n",
              "75%       31.500000\n",
              "max      512.329200\n",
              "Name: Fare, dtype: float64"
            ]
          },
          "metadata": {
            "tags": []
          },
          "execution_count": 150
        }
      ]
    },
    {
      "cell_type": "code",
      "metadata": {
        "id": "UudUuVCHMJP-"
      },
      "source": [
        "#### Lets compute the Interquantile range to calculate the boundaries\n",
        "IQR=titanic.Fare.quantile(0.75)-titanic.Fare.quantile(0.25)"
      ],
      "execution_count": 151,
      "outputs": []
    },
    {
      "cell_type": "code",
      "metadata": {
        "colab": {
          "base_uri": "https://localhost:8080/"
        },
        "id": "UBkoJTLJMS4f",
        "outputId": "aacf8dbe-654a-49b5-957f-55edba0e3b45"
      },
      "source": [
        "IQR"
      ],
      "execution_count": 152,
      "outputs": [
        {
          "output_type": "execute_result",
          "data": {
            "text/plain": [
              "23.6042"
            ]
          },
          "metadata": {
            "tags": []
          },
          "execution_count": 152
        }
      ]
    },
    {
      "cell_type": "code",
      "metadata": {
        "colab": {
          "base_uri": "https://localhost:8080/"
        },
        "id": "ts9BdQ27MbO6",
        "outputId": "33b3d369-85c7-4d7b-fdfa-6aa545950891"
      },
      "source": [
        "lower_bridge=titanic['Fare'].quantile(0.25)-(IQR*1.5)\n",
        "upper_bridge=titanic['Fare'].quantile(0.75)+(IQR*1.5)\n",
        "print(lower_bridge), print(upper_bridge)"
      ],
      "execution_count": 153,
      "outputs": [
        {
          "output_type": "stream",
          "text": [
            "-27.5105\n",
            "66.9063\n"
          ],
          "name": "stdout"
        },
        {
          "output_type": "execute_result",
          "data": {
            "text/plain": [
              "(None, None)"
            ]
          },
          "metadata": {
            "tags": []
          },
          "execution_count": 153
        }
      ]
    },
    {
      "cell_type": "code",
      "metadata": {
        "colab": {
          "base_uri": "https://localhost:8080/"
        },
        "id": "catn3em-MrUy",
        "outputId": "5f221aaa-a6d6-49d0-a858-21fde38593f5"
      },
      "source": [
        "#### Extreme outliers\n",
        "lower_bridge=titanic['Fare'].quantile(0.25)-(IQR*3)\n",
        "upper_bridge=titanic['Fare'].quantile(0.75)+(IQR*3)\n",
        "print(lower_bridge), print(upper_bridge)"
      ],
      "execution_count": 154,
      "outputs": [
        {
          "output_type": "stream",
          "text": [
            "-62.9168\n",
            "102.3126\n"
          ],
          "name": "stdout"
        },
        {
          "output_type": "execute_result",
          "data": {
            "text/plain": [
              "(None, None)"
            ]
          },
          "metadata": {
            "tags": []
          },
          "execution_count": 154
        }
      ]
    },
    {
      "cell_type": "code",
      "metadata": {
        "id": "AgG0Fix4Muq9"
      },
      "source": [
        "data = titanic.copy()"
      ],
      "execution_count": 155,
      "outputs": []
    },
    {
      "cell_type": "code",
      "metadata": {
        "id": "ApFByXjgOyLw"
      },
      "source": [
        "data.loc[data['Age']>=73,'Age']=73"
      ],
      "execution_count": 157,
      "outputs": []
    },
    {
      "cell_type": "code",
      "metadata": {
        "id": "mSCSzEDdPcAt"
      },
      "source": [
        "data.loc[data['Fare']>=100,'Fare']=100"
      ],
      "execution_count": 158,
      "outputs": []
    },
    {
      "cell_type": "code",
      "metadata": {
        "colab": {
          "base_uri": "https://localhost:8080/",
          "height": 313
        },
        "id": "7_xehfRrPtuf",
        "outputId": "03111718-444c-40f4-9752-b8d5412a048a"
      },
      "source": [
        "figure=data.Age.hist(bins=50)\n",
        "figure.set_title('Fare')\n",
        "figure.set_xlabel('Fare')\n",
        "figure.set_ylabel('No of passenger')"
      ],
      "execution_count": 159,
      "outputs": [
        {
          "output_type": "execute_result",
          "data": {
            "text/plain": [
              "Text(0, 0.5, 'No of passenger')"
            ]
          },
          "metadata": {
            "tags": []
          },
          "execution_count": 159
        },
        {
          "output_type": "display_data",
          "data": {
            "image/png": "[encoded data removed]",
            "text/plain": [
              "<Figure size 432x288 with 1 Axes>"
            ]
          },
          "metadata": {
            "tags": [],
            "needs_background": "light"
          }
        }
      ]
    },
    {
      "cell_type": "code",
      "metadata": {
        "colab": {
          "base_uri": "https://localhost:8080/",
          "height": 313
        },
        "id": "5H61MQlaPywf",
        "outputId": "7b8db737-b9c5-4c07-ab10-8546ea547635"
      },
      "source": [
        "figure=data.Fare.hist(bins=50)\n",
        "figure.set_title('Fare')\n",
        "figure.set_xlabel('Fare')\n",
        "figure.set_ylabel('No of passenger')"
      ],
      "execution_count": 160,
      "outputs": [
        {
          "output_type": "execute_result",
          "data": {
            "text/plain": [
              "Text(0, 0.5, 'No of passenger')"
            ]
          },
          "metadata": {
            "tags": []
          },
          "execution_count": 160
        },
        {
          "output_type": "display_data",
          "data": {
            "image/png": "[encoded data removed]",
            "text/plain": [
              "<Figure size 432x288 with 1 Axes>"
            ]
          },
          "metadata": {
            "tags": [],
            "needs_background": "light"
          }
        }
      ]
    }
  ]
}